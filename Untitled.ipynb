{
 "cells": [
  {
   "cell_type": "code",
   "execution_count": 32,
   "metadata": {},
   "outputs": [],
   "source": [
    "import numpy as np\n",
    "import pandas as pd\n",
    "import matplotlib.pyplot as plt\n"
   ]
  },
  {
   "cell_type": "code",
   "execution_count": 33,
   "metadata": {},
   "outputs": [
    {
     "data": {
      "text/html": [
       "<div>\n",
       "<style scoped>\n",
       "    .dataframe tbody tr th:only-of-type {\n",
       "        vertical-align: middle;\n",
       "    }\n",
       "\n",
       "    .dataframe tbody tr th {\n",
       "        vertical-align: top;\n",
       "    }\n",
       "\n",
       "    .dataframe thead th {\n",
       "        text-align: right;\n",
       "    }\n",
       "</style>\n",
       "<table border=\"1\" class=\"dataframe\">\n",
       "  <thead>\n",
       "    <tr style=\"text-align: right;\">\n",
       "      <th></th>\n",
       "      <th>0</th>\n",
       "    </tr>\n",
       "  </thead>\n",
       "  <tbody>\n",
       "    <tr>\n",
       "      <th>0</th>\n",
       "      <td>305 [H]C([H])C([H])([H])O=O [H]C([H])=C([H])[H]</td>\n",
       "    </tr>\n",
       "    <tr>\n",
       "      <th>1</th>\n",
       "      <td>301 [H]C([H])C([H])([H])OO [H]C([H])=C([H])[H]</td>\n",
       "    </tr>\n",
       "    <tr>\n",
       "      <th>2</th>\n",
       "      <td>224 [H]C([H])C([H])[H] [H]C([H])=C([H])[H]</td>\n",
       "    </tr>\n",
       "    <tr>\n",
       "      <th>3</th>\n",
       "      <td>121 [H]OC([H])([H])C([H])[H] [H]C([H])=C([H])[H]</td>\n",
       "    </tr>\n",
       "    <tr>\n",
       "      <th>4</th>\n",
       "      <td>95 [H]OOC([H])([H])C([H])[H] [H]C([H])=C([H])[H]</td>\n",
       "    </tr>\n",
       "  </tbody>\n",
       "</table>\n",
       "</div>"
      ],
      "text/plain": [
       "                                                  0\n",
       "0   305 [H]C([H])C([H])([H])O=O [H]C([H])=C([H])[H]\n",
       "1    301 [H]C([H])C([H])([H])OO [H]C([H])=C([H])[H]\n",
       "2        224 [H]C([H])C([H])[H] [H]C([H])=C([H])[H]\n",
       "3  121 [H]OC([H])([H])C([H])[H] [H]C([H])=C([H])[H]\n",
       "4  95 [H]OOC([H])([H])C([H])[H] [H]C([H])=C([H])[H]"
      ]
     },
     "execution_count": 33,
     "metadata": {},
     "output_type": "execute_result"
    }
   ],
   "source": [
    "df = pd.read_csv(\"./C2H4P.csv\",header=None)\n",
    "df.head()"
   ]
  },
  {
   "cell_type": "code",
   "execution_count": 35,
   "metadata": {},
   "outputs": [
    {
     "data": {
      "text/plain": [
       "0       305 [H]C([H])C([H])([H])O=O [H]C([H])=C([H])[H]\n",
       "1        301 [H]C([H])C([H])([H])OO [H]C([H])=C([H])[H]\n",
       "2            224 [H]C([H])C([H])[H] [H]C([H])=C([H])[H]\n",
       "3      121 [H]OC([H])([H])C([H])[H] [H]C([H])=C([H])[H]\n",
       "4      95 [H]OOC([H])([H])C([H])[H] [H]C([H])=C([H])[H]\n",
       "5        43 [H]C([H])C([H])([H])[H] [H]C([H])=C([H])[H]\n",
       "6     39 [H]C([H])C([H])([H])O([H])[H] [H]C([H])=C([...\n",
       "7        30 [H]C([H])=C([H])([H])OO [H]C([H])=C([H])[H]\n",
       "8       16 [H]C([H])=C([H])([H])O=O [H]C([H])=C([H])[H]\n",
       "9     13 [H]C([H])C([H])([H])C([H])([H])C([H])([H])[...\n",
       "10    13 [H]C([H])C([H])([H])C([H])([H])[H] [H]C([H]...\n",
       "11    12 [H]C([H])C([H])([H])C([H])([H])C([H])([H])C...\n",
       "12    9 [H]C([H])C([H])([H])C([H])([H])C([H])([H])C(...\n",
       "13      8 [H]OC([H])([H])=C([H])[H] [H]C([H])=C([H])[H]\n",
       "14        8 [H]O[H]C([H])=C([H])[H] [H]C([H])=C([H])[H]\n",
       "15             7 [H]CC([H])([H])[H] [H]C([H])=C([H])[H]\n",
       "16         7 [H]O[H]C([H])C([H])[H] [H]C([H])=C([H])[H]\n",
       "17    6 [H]C([H])C([H])([H])C([H])([H])C([H])([H])C(...\n",
       "18    6 [H]C([H])C([H])([H])C([H])([H])C([H])([H])C(...\n",
       "19         5 [H]C([H])=C([H])[H]O=O [H]C([H])=C([H])[H]\n",
       "20       5 [H]C([H])C([H])([H])(O)O [H]C([H])=C([H])[H]\n",
       "21       5 [H]OO[H]C([H])=C([H])[H] [H]C([H])=C([H])[H]\n",
       "22    4 [H]C([H])C([H])([H])C([H])([H])C([H])([H])C(...\n",
       "23    4 [H]C([H])C([H])([H])C([H])([H])C([H])([H])C(...\n",
       "24           4 [H]C([H])C([H])[H]OO [H]C([H])=C([H])[H]\n",
       "25    3 [H]C([H])C([H])([H])C([H])([H])C([H])[H] [H]...\n",
       "26          3 [H]C([H])C([H])[H]O=O [H]C([H])=C([H])[H]\n",
       "27     3 [H]OOC([H])([H])=C([H])[H] [H]C([H])=C([H])[H]\n",
       "28    2 [H]C(=O)OC([H])([H])C([H])[H] [H]C([H])=C([H...\n",
       "29    2 [H]C(O)OC([H])([H])C([H])[H] [H]C([H])=C([H]...\n",
       "                            ...                        \n",
       "56    1 [H]C([H])=C([H])C([H])([H])C([H])([H])C([H])...\n",
       "57    1 [H]C([H])=C([H])OOC([H])([H])C([H])[H] [H]C(...\n",
       "58    1 [H]C([H])=C([H])[H]OC([H])O [H]C([H])=C([H])[H]\n",
       "59          1 [H]C([H])=C([H])[H]OO [H]C([H])=C([H])[H]\n",
       "60    1 [H]C([H])=C([H])[H]OOC([H])([H])[H] [H]C([H]...\n",
       "61      1 [H]C([H])C([H])([H])C(O)O [H]C([H])=C([H])[H]\n",
       "62    1 [H]C([H])C([H])([H])C([H])(=O)OO [H]C([H])=C...\n",
       "63    1 [H]C([H])C([H])([H])C([H])([H])C([H])([H])C(...\n",
       "64    1 [H]C([H])C([H])([H])C([H])([H])O [H]C([H])=C...\n",
       "65    1 [H]C([H])C([H])([H])O([H])C([H])([H])C=O [H]...\n",
       "66    1 [H]C([H])C([H])([H])O=OC([H])([H])[H] [H]C([...\n",
       "67    1 [H]C([H])C([H])([H])OC([H])([H])OO [H]C([H])...\n",
       "68    1 [H]C([H])C([H])([H])OOC([H])([H])C([H])([H])...\n",
       "69    1 [H]C([H])C([H])([H])OOC([H])([H])C([H])C([H]...\n",
       "70     1 [H]C([H])C([H])([H])[H]O=O [H]C([H])=C([H])[H]\n",
       "71    1 [H]C([H])C([H])[H]OC([H])([H])[H] [H]C([H])=...\n",
       "72            1 [H]C=C([H])([H])[H] [H]C([H])=C([H])[H]\n",
       "73    1 [H]OC#COC([H])([H])C([H])[H] [H]C([H])=C([H]...\n",
       "74     1 [H]OC#CO[H]C([H])C([H])[H] [H]C([H])=C([H])[H]\n",
       "75    1 [H]OC([H])([H])C([H])([H])O=O [H]C([H])=C([H...\n",
       "76    1 [H]OC([H])([H])O=OC([H])([H])C([H])[H] [H]C(...\n",
       "77    1 [H]OC([H])([H])OC([H])([H])C([H])[H] [H]C([H...\n",
       "78    1 [H]OOC([H])([H])C([H])([H])C([H])[H] [H]C([H...\n",
       "79    1 [H]OOC([H])([H])C([H])([H])O=O [H]C([H])=C([...\n",
       "80        1 [H]OO[H]C([H])C([H])[H] [H]C([H])=C([H])[H]\n",
       "81    1 [H]OO[H]O([H])C([H])([H])C([H])[H] [H]C([H])...\n",
       "82    1 [H]O[H]C([H])([H])C([H])[H] [H]C([H])=C([H])[H]\n",
       "83    1 [H]O[H]OOC([H])([H])C([H])[H] [H]C([H])=C([H...\n",
       "84     1 [H][H]C([H])C([H])([H])O=O [H]C([H])=C([H])[H]\n",
       "85          1 [H][H]C([H])C([H])[H] [H]C([H])=C([H])[H]\n",
       "Name: 0, Length: 86, dtype: object"
      ]
     },
     "execution_count": 35,
     "metadata": {},
     "output_type": "execute_result"
    }
   ],
   "source": [
    "df[0]"
   ]
  },
  {
   "cell_type": "code",
   "execution_count": null,
   "metadata": {},
   "outputs": [],
   "source": []
  }
 ],
 "metadata": {
  "kernelspec": {
   "display_name": "Python 3",
   "language": "python",
   "name": "python3"
  },
  "language_info": {
   "codemirror_mode": {
    "name": "ipython",
    "version": 3
   },
   "file_extension": ".py",
   "mimetype": "text/x-python",
   "name": "python",
   "nbconvert_exporter": "python",
   "pygments_lexer": "ipython3",
   "version": "3.7.1"
  }
 },
 "nbformat": 4,
 "nbformat_minor": 2
}
